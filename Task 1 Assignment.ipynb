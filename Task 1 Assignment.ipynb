{
 "cells": [],
 "metadata": {},
 "nbformat": 4,
 "nbformat_minor": 5
}
import json

import re
import sys

regex_email = r'\b[A-Za-z0-9._%+-]+@[A-Za-z0-9.-]+\.[A-Z|a-z]{2,}\b'

regex_password = "^(?=.*[a-z])(?=.*[A-Z])(?=.*\d)(?=.*[@$!%*#?&])[A-Za-z\d@$!%*#?&]{5,16}$"

file = open("data_reg.txt", "w")

def register(email,password):
    if (re.fullmatch(regex_email,email)) and (re.fullmatch(regex_password,password)):
        file.write("\n"+email+password)
        print("registered Successfully: ")
        file.close()
        
    else:
        print("Incorrect id or password: ")
        sys.exit()

        
email = str(input("Enter your mail id: "))
password = str(input("Enter password: "))
register(email,password)



file=open("data_reg.txt", "r")
def login(email_id,pas_sword):
    data=(email_id + pas_sword)
    for i in file:
        S=i.split()
    if S[0] == data:
        print("login successfully ")
        print("welcome to our website")
    else:
        print("invalid username or password")
        print("You forget Your password: ")
        print("Please check your datails: ")
        print(file.readline())
email_id = str(input("Enter your id: "))
pas_sword = str(input("Enter your password :"))
login(email_id,pas_sword) 
  

