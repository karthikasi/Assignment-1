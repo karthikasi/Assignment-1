{
 "cells": [
  {
   "cell_type": "code",
   "execution_count": null,
   "id": "abad0bc7",
   "metadata": {},
   "outputs": [
    {
     "name": "stdout",
     "output_type": "stream",
     "text": [
      "Enter your mail id: Karthiart@gmail.com\n"
     ]
    }
   ],
   "source": [
    "\n",
    "\n",
    "import re\n",
    "\n",
    "import sys\n",
    "\n",
    "regex_email = r'\\b[A-Za-z0-9._%+-]+@[A-Za-z0-9.-]+\\.[A-Z|a-z]{2,}\\b'\n",
    "\n",
    "regex_password = \"^(?=.*[a-z])(?=.*[A-Z])(?=.*\\d)(?=.*[@$!%*#?&])[A-Za-z\\d@$!%*#?&]{5,16}$\"\n",
    "\n",
    "Details={\"email_id\": [ ],\"password\": [ ]}\n",
    "\n",
    "def register(email,password):\n",
    "    if (re.fullmatch(regex_email,email)) and (re.fullmatch(regex_password,password)):\n",
    "        Details[\"email_id\"].append(email)\n",
    "        Details[\"password\"].append(password)\n",
    "        print(\"registered succefully \")\n",
    "    else:\n",
    "        print(\"Incorrect id or password: \")\n",
    "        sys.exit()\n",
    "if __name__ ==\"__main__\":\n",
    "    email = str(input(\"Enter your mail id: \"))\n",
    "    password = str(input(\"Enter password: \"))\n",
    "    register(email,password)\n",
    "\n",
    "import json\n",
    "file =open(\"user_details.txt\", \"w\")\n",
    "json.dump(Details,file, indent=6)\n",
    "file.close()\n",
    "f = open(\"user_details.txt\")\n",
    "info = json.loads(f.read())\n",
    "\n",
    "def login(email_id,pas_sword):\n",
    "    if info[\"email_id\"][0]==email_id and info[\"password\"][0]==pas_sword:\n",
    "        print(\"login successfully \")\n",
    "    else:\n",
    "        print(\"invalid username or password\")\n",
    "        sys.exit()\n",
    "        \n",
    "email_id = str(input(\"Enter your id: \"))\n",
    "pas_sword = str(input(\"Enter your password :\"))\n",
    "login(email_id,pas_sword)\n",
    "#forget password\n",
    "def forget_password(email_id):\n",
    "    if info[\"email_id\"][0]==email_id:\n",
    "            print(Details[\"password\"])\n",
    "    else:\n",
    "        print(\"Enter Correct email id or register again\")\n",
    "email= str(input(\"Enter your id: \"))\n",
    "forget_password(email_id)"
   ]
  },
  {
   "cell_type": "code",
   "execution_count": null,
   "id": "aded3d27",
   "metadata": {},
   "outputs": [],
   "source": []
  }
 ],
 "metadata": {
  "kernelspec": {
   "display_name": "Python 3 (ipykernel)",
   "language": "python",
   "name": "python3"
  },
  "language_info": {
   "codemirror_mode": {
    "name": "ipython",
    "version": 3
   },
   "file_extension": ".py",
   "mimetype": "text/x-python",
   "name": "python",
   "nbconvert_exporter": "python",
   "pygments_lexer": "ipython3",
   "version": "3.9.12"
  }
 },
 "nbformat": 4,
 "nbformat_minor": 5
}
